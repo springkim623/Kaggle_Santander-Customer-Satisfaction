{
 "cells": [
  {
   "cell_type": "code",
   "execution_count": 9,
   "metadata": {
    "collapsed": true
   },
   "outputs": [],
   "source": [
    "import pandas\n",
    "import numpy as np \n",
    "import matplotlib.pyplot as plt\n",
    "import seaborn as sns"
   ]
  },
  {
   "cell_type": "markdown",
   "metadata": {},
   "source": [
    "## 1. pre-process"
   ]
  },
  {
   "cell_type": "markdown",
   "metadata": {},
   "source": [
    "### 1-1 load data"
   ]
  },
  {
   "cell_type": "code",
   "execution_count": 31,
   "metadata": {
    "collapsed": true
   },
   "outputs": [],
   "source": [
    "# load data set\n",
    "train = pandas.read_csv(\"./data/train.csv\")\n",
    "test  = pandas.read_csv(\"./data/test.csv\")"
   ]
  },
  {
   "cell_type": "code",
   "execution_count": 11,
   "metadata": {
    "scrolled": true
   },
   "outputs": [
    {
     "data": {
      "text/html": [
       "<div>\n",
       "<table border=\"1\" class=\"dataframe\">\n",
       "  <thead>\n",
       "    <tr style=\"text-align: right;\">\n",
       "      <th></th>\n",
       "      <th>ID</th>\n",
       "      <th>var3</th>\n",
       "      <th>var15</th>\n",
       "      <th>imp_ent_var16_ult1</th>\n",
       "      <th>imp_op_var39_comer_ult1</th>\n",
       "      <th>imp_op_var39_comer_ult3</th>\n",
       "      <th>imp_op_var40_comer_ult1</th>\n",
       "      <th>imp_op_var40_comer_ult3</th>\n",
       "      <th>imp_op_var40_efect_ult1</th>\n",
       "      <th>imp_op_var40_efect_ult3</th>\n",
       "      <th>...</th>\n",
       "      <th>saldo_medio_var33_hace2</th>\n",
       "      <th>saldo_medio_var33_hace3</th>\n",
       "      <th>saldo_medio_var33_ult1</th>\n",
       "      <th>saldo_medio_var33_ult3</th>\n",
       "      <th>saldo_medio_var44_hace2</th>\n",
       "      <th>saldo_medio_var44_hace3</th>\n",
       "      <th>saldo_medio_var44_ult1</th>\n",
       "      <th>saldo_medio_var44_ult3</th>\n",
       "      <th>var38</th>\n",
       "      <th>TARGET</th>\n",
       "    </tr>\n",
       "  </thead>\n",
       "  <tbody>\n",
       "    <tr>\n",
       "      <th>76015</th>\n",
       "      <td>151829</td>\n",
       "      <td>2</td>\n",
       "      <td>48</td>\n",
       "      <td>0.0</td>\n",
       "      <td>0.0</td>\n",
       "      <td>0.0</td>\n",
       "      <td>0.0</td>\n",
       "      <td>0.0</td>\n",
       "      <td>0.0</td>\n",
       "      <td>0.0</td>\n",
       "      <td>...</td>\n",
       "      <td>0.0</td>\n",
       "      <td>0.0</td>\n",
       "      <td>0.0</td>\n",
       "      <td>0.0</td>\n",
       "      <td>0.0</td>\n",
       "      <td>0.0</td>\n",
       "      <td>0.0</td>\n",
       "      <td>0.0</td>\n",
       "      <td>60926.490000</td>\n",
       "      <td>0</td>\n",
       "    </tr>\n",
       "    <tr>\n",
       "      <th>76016</th>\n",
       "      <td>151830</td>\n",
       "      <td>2</td>\n",
       "      <td>39</td>\n",
       "      <td>0.0</td>\n",
       "      <td>0.0</td>\n",
       "      <td>0.0</td>\n",
       "      <td>0.0</td>\n",
       "      <td>0.0</td>\n",
       "      <td>0.0</td>\n",
       "      <td>0.0</td>\n",
       "      <td>...</td>\n",
       "      <td>0.0</td>\n",
       "      <td>0.0</td>\n",
       "      <td>0.0</td>\n",
       "      <td>0.0</td>\n",
       "      <td>0.0</td>\n",
       "      <td>0.0</td>\n",
       "      <td>0.0</td>\n",
       "      <td>0.0</td>\n",
       "      <td>118634.520000</td>\n",
       "      <td>0</td>\n",
       "    </tr>\n",
       "    <tr>\n",
       "      <th>76017</th>\n",
       "      <td>151835</td>\n",
       "      <td>2</td>\n",
       "      <td>23</td>\n",
       "      <td>0.0</td>\n",
       "      <td>0.0</td>\n",
       "      <td>0.0</td>\n",
       "      <td>0.0</td>\n",
       "      <td>0.0</td>\n",
       "      <td>0.0</td>\n",
       "      <td>0.0</td>\n",
       "      <td>...</td>\n",
       "      <td>0.0</td>\n",
       "      <td>0.0</td>\n",
       "      <td>0.0</td>\n",
       "      <td>0.0</td>\n",
       "      <td>0.0</td>\n",
       "      <td>0.0</td>\n",
       "      <td>0.0</td>\n",
       "      <td>0.0</td>\n",
       "      <td>74028.150000</td>\n",
       "      <td>0</td>\n",
       "    </tr>\n",
       "    <tr>\n",
       "      <th>76018</th>\n",
       "      <td>151836</td>\n",
       "      <td>2</td>\n",
       "      <td>25</td>\n",
       "      <td>0.0</td>\n",
       "      <td>0.0</td>\n",
       "      <td>0.0</td>\n",
       "      <td>0.0</td>\n",
       "      <td>0.0</td>\n",
       "      <td>0.0</td>\n",
       "      <td>0.0</td>\n",
       "      <td>...</td>\n",
       "      <td>0.0</td>\n",
       "      <td>0.0</td>\n",
       "      <td>0.0</td>\n",
       "      <td>0.0</td>\n",
       "      <td>0.0</td>\n",
       "      <td>0.0</td>\n",
       "      <td>0.0</td>\n",
       "      <td>0.0</td>\n",
       "      <td>84278.160000</td>\n",
       "      <td>0</td>\n",
       "    </tr>\n",
       "    <tr>\n",
       "      <th>76019</th>\n",
       "      <td>151838</td>\n",
       "      <td>2</td>\n",
       "      <td>46</td>\n",
       "      <td>0.0</td>\n",
       "      <td>0.0</td>\n",
       "      <td>0.0</td>\n",
       "      <td>0.0</td>\n",
       "      <td>0.0</td>\n",
       "      <td>0.0</td>\n",
       "      <td>0.0</td>\n",
       "      <td>...</td>\n",
       "      <td>0.0</td>\n",
       "      <td>0.0</td>\n",
       "      <td>0.0</td>\n",
       "      <td>0.0</td>\n",
       "      <td>0.0</td>\n",
       "      <td>0.0</td>\n",
       "      <td>0.0</td>\n",
       "      <td>0.0</td>\n",
       "      <td>117310.979016</td>\n",
       "      <td>0</td>\n",
       "    </tr>\n",
       "  </tbody>\n",
       "</table>\n",
       "<p>5 rows × 371 columns</p>\n",
       "</div>"
      ],
      "text/plain": [
       "           ID  var3  var15  imp_ent_var16_ult1  imp_op_var39_comer_ult1  \\\n",
       "76015  151829     2     48                 0.0                      0.0   \n",
       "76016  151830     2     39                 0.0                      0.0   \n",
       "76017  151835     2     23                 0.0                      0.0   \n",
       "76018  151836     2     25                 0.0                      0.0   \n",
       "76019  151838     2     46                 0.0                      0.0   \n",
       "\n",
       "       imp_op_var39_comer_ult3  imp_op_var40_comer_ult1  \\\n",
       "76015                      0.0                      0.0   \n",
       "76016                      0.0                      0.0   \n",
       "76017                      0.0                      0.0   \n",
       "76018                      0.0                      0.0   \n",
       "76019                      0.0                      0.0   \n",
       "\n",
       "       imp_op_var40_comer_ult3  imp_op_var40_efect_ult1  \\\n",
       "76015                      0.0                      0.0   \n",
       "76016                      0.0                      0.0   \n",
       "76017                      0.0                      0.0   \n",
       "76018                      0.0                      0.0   \n",
       "76019                      0.0                      0.0   \n",
       "\n",
       "       imp_op_var40_efect_ult3   ...    saldo_medio_var33_hace2  \\\n",
       "76015                      0.0   ...                        0.0   \n",
       "76016                      0.0   ...                        0.0   \n",
       "76017                      0.0   ...                        0.0   \n",
       "76018                      0.0   ...                        0.0   \n",
       "76019                      0.0   ...                        0.0   \n",
       "\n",
       "       saldo_medio_var33_hace3  saldo_medio_var33_ult1  \\\n",
       "76015                      0.0                     0.0   \n",
       "76016                      0.0                     0.0   \n",
       "76017                      0.0                     0.0   \n",
       "76018                      0.0                     0.0   \n",
       "76019                      0.0                     0.0   \n",
       "\n",
       "       saldo_medio_var33_ult3  saldo_medio_var44_hace2  \\\n",
       "76015                     0.0                      0.0   \n",
       "76016                     0.0                      0.0   \n",
       "76017                     0.0                      0.0   \n",
       "76018                     0.0                      0.0   \n",
       "76019                     0.0                      0.0   \n",
       "\n",
       "       saldo_medio_var44_hace3  saldo_medio_var44_ult1  \\\n",
       "76015                      0.0                     0.0   \n",
       "76016                      0.0                     0.0   \n",
       "76017                      0.0                     0.0   \n",
       "76018                      0.0                     0.0   \n",
       "76019                      0.0                     0.0   \n",
       "\n",
       "       saldo_medio_var44_ult3          var38  TARGET  \n",
       "76015                     0.0   60926.490000       0  \n",
       "76016                     0.0  118634.520000       0  \n",
       "76017                     0.0   74028.150000       0  \n",
       "76018                     0.0   84278.160000       0  \n",
       "76019                     0.0  117310.979016       0  \n",
       "\n",
       "[5 rows x 371 columns]"
      ]
     },
     "execution_count": 11,
     "metadata": {},
     "output_type": "execute_result"
    }
   ],
   "source": [
    "train.tail()"
   ]
  },
  {
   "cell_type": "code",
   "execution_count": 12,
   "metadata": {},
   "outputs": [
    {
     "data": {
      "text/html": [
       "<div>\n",
       "<table border=\"1\" class=\"dataframe\">\n",
       "  <thead>\n",
       "    <tr style=\"text-align: right;\">\n",
       "      <th></th>\n",
       "      <th>ID</th>\n",
       "      <th>var3</th>\n",
       "      <th>var15</th>\n",
       "      <th>imp_ent_var16_ult1</th>\n",
       "      <th>imp_op_var39_comer_ult1</th>\n",
       "      <th>imp_op_var39_comer_ult3</th>\n",
       "      <th>imp_op_var40_comer_ult1</th>\n",
       "      <th>imp_op_var40_comer_ult3</th>\n",
       "      <th>imp_op_var40_efect_ult1</th>\n",
       "      <th>imp_op_var40_efect_ult3</th>\n",
       "      <th>...</th>\n",
       "      <th>saldo_medio_var29_ult3</th>\n",
       "      <th>saldo_medio_var33_hace2</th>\n",
       "      <th>saldo_medio_var33_hace3</th>\n",
       "      <th>saldo_medio_var33_ult1</th>\n",
       "      <th>saldo_medio_var33_ult3</th>\n",
       "      <th>saldo_medio_var44_hace2</th>\n",
       "      <th>saldo_medio_var44_hace3</th>\n",
       "      <th>saldo_medio_var44_ult1</th>\n",
       "      <th>saldo_medio_var44_ult3</th>\n",
       "      <th>var38</th>\n",
       "    </tr>\n",
       "  </thead>\n",
       "  <tbody>\n",
       "    <tr>\n",
       "      <th>75813</th>\n",
       "      <td>151831</td>\n",
       "      <td>2</td>\n",
       "      <td>23</td>\n",
       "      <td>0.0</td>\n",
       "      <td>0.0</td>\n",
       "      <td>0.0</td>\n",
       "      <td>0.0</td>\n",
       "      <td>0.0</td>\n",
       "      <td>0.0</td>\n",
       "      <td>0.0</td>\n",
       "      <td>...</td>\n",
       "      <td>0.0</td>\n",
       "      <td>0.0</td>\n",
       "      <td>0.0</td>\n",
       "      <td>0.0</td>\n",
       "      <td>0.0</td>\n",
       "      <td>0.0</td>\n",
       "      <td>0.0</td>\n",
       "      <td>0.0</td>\n",
       "      <td>0.0</td>\n",
       "      <td>40243.200000</td>\n",
       "    </tr>\n",
       "    <tr>\n",
       "      <th>75814</th>\n",
       "      <td>151832</td>\n",
       "      <td>2</td>\n",
       "      <td>26</td>\n",
       "      <td>0.0</td>\n",
       "      <td>0.0</td>\n",
       "      <td>0.0</td>\n",
       "      <td>0.0</td>\n",
       "      <td>0.0</td>\n",
       "      <td>0.0</td>\n",
       "      <td>0.0</td>\n",
       "      <td>...</td>\n",
       "      <td>0.0</td>\n",
       "      <td>0.0</td>\n",
       "      <td>0.0</td>\n",
       "      <td>0.0</td>\n",
       "      <td>0.0</td>\n",
       "      <td>0.0</td>\n",
       "      <td>0.0</td>\n",
       "      <td>0.0</td>\n",
       "      <td>0.0</td>\n",
       "      <td>146961.300000</td>\n",
       "    </tr>\n",
       "    <tr>\n",
       "      <th>75815</th>\n",
       "      <td>151833</td>\n",
       "      <td>2</td>\n",
       "      <td>24</td>\n",
       "      <td>0.0</td>\n",
       "      <td>0.0</td>\n",
       "      <td>0.0</td>\n",
       "      <td>0.0</td>\n",
       "      <td>0.0</td>\n",
       "      <td>0.0</td>\n",
       "      <td>0.0</td>\n",
       "      <td>...</td>\n",
       "      <td>0.0</td>\n",
       "      <td>0.0</td>\n",
       "      <td>0.0</td>\n",
       "      <td>0.0</td>\n",
       "      <td>0.0</td>\n",
       "      <td>0.0</td>\n",
       "      <td>0.0</td>\n",
       "      <td>0.0</td>\n",
       "      <td>0.0</td>\n",
       "      <td>167299.770000</td>\n",
       "    </tr>\n",
       "    <tr>\n",
       "      <th>75816</th>\n",
       "      <td>151834</td>\n",
       "      <td>2</td>\n",
       "      <td>40</td>\n",
       "      <td>0.0</td>\n",
       "      <td>0.0</td>\n",
       "      <td>0.0</td>\n",
       "      <td>0.0</td>\n",
       "      <td>0.0</td>\n",
       "      <td>0.0</td>\n",
       "      <td>0.0</td>\n",
       "      <td>...</td>\n",
       "      <td>0.0</td>\n",
       "      <td>0.0</td>\n",
       "      <td>0.0</td>\n",
       "      <td>0.0</td>\n",
       "      <td>0.0</td>\n",
       "      <td>0.0</td>\n",
       "      <td>0.0</td>\n",
       "      <td>0.0</td>\n",
       "      <td>0.0</td>\n",
       "      <td>117310.979016</td>\n",
       "    </tr>\n",
       "    <tr>\n",
       "      <th>75817</th>\n",
       "      <td>151837</td>\n",
       "      <td>2</td>\n",
       "      <td>23</td>\n",
       "      <td>0.0</td>\n",
       "      <td>0.0</td>\n",
       "      <td>0.0</td>\n",
       "      <td>0.0</td>\n",
       "      <td>0.0</td>\n",
       "      <td>0.0</td>\n",
       "      <td>0.0</td>\n",
       "      <td>...</td>\n",
       "      <td>0.0</td>\n",
       "      <td>0.0</td>\n",
       "      <td>0.0</td>\n",
       "      <td>0.0</td>\n",
       "      <td>0.0</td>\n",
       "      <td>0.0</td>\n",
       "      <td>0.0</td>\n",
       "      <td>0.0</td>\n",
       "      <td>0.0</td>\n",
       "      <td>117310.979016</td>\n",
       "    </tr>\n",
       "  </tbody>\n",
       "</table>\n",
       "<p>5 rows × 370 columns</p>\n",
       "</div>"
      ],
      "text/plain": [
       "           ID  var3  var15  imp_ent_var16_ult1  imp_op_var39_comer_ult1  \\\n",
       "75813  151831     2     23                 0.0                      0.0   \n",
       "75814  151832     2     26                 0.0                      0.0   \n",
       "75815  151833     2     24                 0.0                      0.0   \n",
       "75816  151834     2     40                 0.0                      0.0   \n",
       "75817  151837     2     23                 0.0                      0.0   \n",
       "\n",
       "       imp_op_var39_comer_ult3  imp_op_var40_comer_ult1  \\\n",
       "75813                      0.0                      0.0   \n",
       "75814                      0.0                      0.0   \n",
       "75815                      0.0                      0.0   \n",
       "75816                      0.0                      0.0   \n",
       "75817                      0.0                      0.0   \n",
       "\n",
       "       imp_op_var40_comer_ult3  imp_op_var40_efect_ult1  \\\n",
       "75813                      0.0                      0.0   \n",
       "75814                      0.0                      0.0   \n",
       "75815                      0.0                      0.0   \n",
       "75816                      0.0                      0.0   \n",
       "75817                      0.0                      0.0   \n",
       "\n",
       "       imp_op_var40_efect_ult3      ...        saldo_medio_var29_ult3  \\\n",
       "75813                      0.0      ...                           0.0   \n",
       "75814                      0.0      ...                           0.0   \n",
       "75815                      0.0      ...                           0.0   \n",
       "75816                      0.0      ...                           0.0   \n",
       "75817                      0.0      ...                           0.0   \n",
       "\n",
       "       saldo_medio_var33_hace2  saldo_medio_var33_hace3  \\\n",
       "75813                      0.0                      0.0   \n",
       "75814                      0.0                      0.0   \n",
       "75815                      0.0                      0.0   \n",
       "75816                      0.0                      0.0   \n",
       "75817                      0.0                      0.0   \n",
       "\n",
       "       saldo_medio_var33_ult1  saldo_medio_var33_ult3  \\\n",
       "75813                     0.0                     0.0   \n",
       "75814                     0.0                     0.0   \n",
       "75815                     0.0                     0.0   \n",
       "75816                     0.0                     0.0   \n",
       "75817                     0.0                     0.0   \n",
       "\n",
       "       saldo_medio_var44_hace2  saldo_medio_var44_hace3  \\\n",
       "75813                      0.0                      0.0   \n",
       "75814                      0.0                      0.0   \n",
       "75815                      0.0                      0.0   \n",
       "75816                      0.0                      0.0   \n",
       "75817                      0.0                      0.0   \n",
       "\n",
       "       saldo_medio_var44_ult1  saldo_medio_var44_ult3          var38  \n",
       "75813                     0.0                     0.0   40243.200000  \n",
       "75814                     0.0                     0.0  146961.300000  \n",
       "75815                     0.0                     0.0  167299.770000  \n",
       "75816                     0.0                     0.0  117310.979016  \n",
       "75817                     0.0                     0.0  117310.979016  \n",
       "\n",
       "[5 rows x 370 columns]"
      ]
     },
     "execution_count": 12,
     "metadata": {},
     "output_type": "execute_result"
    }
   ],
   "source": [
    "test.tail() # no 'TARGET'"
   ]
  },
  {
   "cell_type": "markdown",
   "metadata": {},
   "source": [
    "### 1-2 data summary"
   ]
  },
  {
   "cell_type": "code",
   "execution_count": 32,
   "metadata": {},
   "outputs": [
    {
     "name": "stdout",
     "output_type": "stream",
     "text": [
      "[Train data set]\n",
      "total number of datas: 76020\n",
      "number of features: 369\n",
      "number of satisfied customers: 73012\n",
      "number of unsatisfied customers: 3008\n",
      "percent of unsatisfied customers: 4.00%\n",
      "\n",
      "[test data set]\n",
      "total number of datas: 75818\n",
      "number of features: 369\n"
     ]
    }
   ],
   "source": [
    "# component of data\n",
    "data = len(train) # total number of train datas\n",
    "\n",
    "features = train.shape[1]-2 # number of features (exclude first column(ID) and last column(TARGET))\n",
    "\n",
    "sat_c = len(train[train['TARGET'] == 0]) # number of satisfied customers\n",
    "\n",
    "unsat_c = len(train[train['TARGET'] == 1]) # number of unsatisfied customers\n",
    "\n",
    "sat_rate = 100 * unsat_c/sat_c # percent of unsatisfied customers\n",
    "\n",
    "print '[Train data set]'\n",
    "print ('total number of datas: {}'.format(data))\n",
    "print ('number of features: {}'.format(features))\n",
    "print ('number of satisfied customers: {}'.format(sat_c))\n",
    "print ('number of unsatisfied customers: {}'.format(unsat_c))\n",
    "print ('percent of unsatisfied customers: {:.2f}%'.format(sat_rate))\n",
    "# ---------------------------------------------------------------------\n",
    "\n",
    "data = len(test) # total number of test datas\n",
    "\n",
    "features = test.shape[1]-1 # number of features (exclude first column(ID))\n",
    "print\n",
    "print '[test data set]'\n",
    "print ('total number of datas: {}'.format(data))\n",
    "print ('number of features: {}'.format(features))"
   ]
  },
  {
   "cell_type": "markdown",
   "metadata": {
    "collapsed": true
   },
   "source": [
    "### 1-3 delete constant columns"
   ]
  },
  {
   "cell_type": "code",
   "execution_count": 33,
   "metadata": {},
   "outputs": [
    {
     "name": "stdout",
     "output_type": "stream",
     "text": [
      "removed constand columns: 34\n",
      "\n",
      "['ind_var2_0', 'ind_var2', 'ind_var27_0', 'ind_var28_0', 'ind_var28', 'ind_var27', 'ind_var41', 'ind_var46_0', 'ind_var46', 'num_var27_0', 'num_var28_0', 'num_var28', 'num_var27', 'num_var41', 'num_var46_0', 'num_var46', 'saldo_var28', 'saldo_var27', 'saldo_var41', 'saldo_var46', 'imp_amort_var18_hace3', 'imp_amort_var34_hace3', 'imp_reemb_var13_hace3', 'imp_reemb_var33_hace3', 'imp_trasp_var17_out_hace3', 'imp_trasp_var33_out_hace3', 'num_var2_0_ult1', 'num_var2_ult1', 'num_reemb_var13_hace3', 'num_reemb_var33_hace3', 'num_trasp_var17_out_hace3', 'num_trasp_var33_out_hace3', 'saldo_var2_ult1', 'saldo_medio_var13_medio_hace3']\n"
     ]
    }
   ],
   "source": [
    "# remove constant columns\n",
    "con_removed = [] # removed constant columns\n",
    "df_train = train # copy the train data set\n",
    "df_test = test # copy the test data set\n",
    "\n",
    "# removed constant columns\n",
    "for col in df_train.columns:\n",
    "    if df_train[col].std() == 0:\n",
    "        con_removed.append(col)\n",
    "\n",
    "df_train.drop(con_removed, axis=1, inplace=True) # remove constant columns in the train data set\n",
    "\n",
    "df_test.drop(con_removed, axis=1, inplace=True) # remove constant columns in the test data set\n",
    "\n",
    "print ('removed constand columns: {}'.format(len(con_removed)))\n",
    "print\n",
    "print con_removed"
   ]
  },
  {
   "cell_type": "markdown",
   "metadata": {},
   "source": [
    "### 1-4 remove duplicate columns"
   ]
  },
  {
   "cell_type": "code",
   "execution_count": 41,
   "metadata": {
    "scrolled": true
   },
   "outputs": [
    {
     "name": "stdout",
     "output_type": "stream",
     "text": [
      "{'delta_imp_reemb_var33_1y3': ['delta_num_reemb_var33_1y3'], 'ind_var18_0': ['ind_var18'], 'delta_imp_reemb_var13_1y3': ['delta_num_reemb_var13_1y3'], 'ind_var26_0': ['ind_var26'], 'ind_var25_0': ['ind_var25'], 'num_var6_0': ['num_var29_0'], 'num_var26_0': ['num_var26'], 'ind_var40': ['ind_var39'], 'ind_var37_0': ['ind_var37'], 'num_var18_0': ['num_var18'], 'delta_imp_trasp_var33_in_1y3': ['delta_num_trasp_var33_in_1y3'], 'saldo_var13_medio': ['saldo_medio_var13_medio_ult1'], 'num_var40': ['num_var39'], 'num_var34_0': ['num_var34'], 'num_var32_0': ['num_var32'], 'ind_var13_medio_0': ['ind_var13_medio'], 'num_var6': ['num_var29'], 'num_var13_medio_0': ['num_var13_medio'], 'ind_var32_0': ['ind_var32'], 'delta_imp_reemb_var17_1y3': ['delta_num_reemb_var17_1y3'], 'delta_imp_trasp_var17_in_1y3': ['delta_num_trasp_var17_in_1y3'], 'saldo_var6': ['saldo_var29'], 'ind_var34_0': ['ind_var34'], 'num_var37_0': ['num_var37'], 'num_var25_0': ['num_var25'], 'ind_var6_0': ['ind_var29_0'], 'delta_imp_trasp_var33_out_1y3': ['delta_num_trasp_var33_out_1y3'], 'ind_var6': ['ind_var29'], 'delta_imp_trasp_var17_out_1y3': ['delta_num_trasp_var17_out_1y3']}\n",
      "duplicated columns with distinct values: 29\n",
      "removed duplicated coulumns: 29\n"
     ]
    }
   ],
   "source": [
    "# remove duplicated columns\n",
    "dup_removed = [] # removed duplicated columns\n",
    "col_tmp = [] # temp list for columns scan\n",
    "dupList = {} # a dictionary of duplicated columns\n",
    "\n",
    "columns = df_train.columns\n",
    "for i in range(len(columns)-1):\n",
    "    v = df_train[columns[i]].values\n",
    "    dupCols = [] # duplicated columns\n",
    "    for n in range(i+1, len(columns)): # compare with i and i+1(equal?) \n",
    "        if np.array_equal(v, df_train[columns[n]].values):\n",
    "            dup_removed.append(columns[n])\n",
    "            if columns[n] not in col_tmp:\n",
    "                dupCols.append(columns[n])\n",
    "                dupList[columns[i]] = dupCols\n",
    "                \n",
    "print dupList\n",
    "print\n",
    "print ('duplicated columns with distinct values: {}'.format(len(dupList)))\n",
    "\n",
    "df_train.drop(dup_removed, axis=1, inplace=True)\n",
    "df_test.drop(dup_removed, axis=1, inplace=True)\n",
    "print\n",
    "print ('removed duplicated coulumns: {}'.format(len(dup_removed)))"
   ]
  },
  {
   "cell_type": "code",
   "execution_count": 42,
   "metadata": {},
   "outputs": [
    {
     "name": "stdout",
     "output_type": "stream",
     "text": [
      "['ind_var29_0', 'ind_var29', 'ind_var13_medio', 'ind_var18', 'ind_var26', 'ind_var25', 'ind_var32', 'ind_var34', 'ind_var37', 'ind_var39', 'num_var29_0', 'num_var29', 'num_var13_medio', 'num_var18', 'num_var26', 'num_var25', 'num_var32', 'num_var34', 'num_var37', 'num_var39', 'saldo_var29', 'saldo_medio_var13_medio_ult1', 'delta_num_reemb_var13_1y3', 'delta_num_reemb_var17_1y3', 'delta_num_reemb_var33_1y3', 'delta_num_trasp_var17_in_1y3', 'delta_num_trasp_var17_out_1y3', 'delta_num_trasp_var33_in_1y3', 'delta_num_trasp_var33_out_1y3']\n"
     ]
    }
   ],
   "source": [
    "print dup_removed"
   ]
  },
  {
   "cell_type": "code",
   "execution_count": 8,
   "metadata": {},
   "outputs": [
    {
     "name": "stdout",
     "output_type": "stream",
     "text": [
      "{'delta_imp_reemb_var33_1y3': ['delta_num_reemb_var33_1y3'], 'ind_var18_0': ['ind_var18'], 'delta_imp_reemb_var13_1y3': ['delta_num_reemb_var13_1y3'], 'ind_var26_0': ['ind_var26'], 'ind_var25_0': ['ind_var25'], 'num_var6_0': ['num_var29_0'], 'num_var26_0': ['num_var26'], 'ind_var40': ['ind_var39'], 'ind_var37_0': ['ind_var37'], 'num_var18_0': ['num_var18'], 'delta_imp_trasp_var33_in_1y3': ['delta_num_trasp_var33_in_1y3'], 'saldo_var13_medio': ['saldo_medio_var13_medio_ult1'], 'num_var40': ['num_var39'], 'num_var34_0': ['num_var34'], 'num_var32_0': ['num_var32'], 'ind_var13_medio_0': ['ind_var13_medio'], 'num_var6': ['num_var29'], 'num_var13_medio_0': ['num_var13_medio'], 'ind_var32_0': ['ind_var32'], 'delta_imp_reemb_var17_1y3': ['delta_num_reemb_var17_1y3'], 'delta_imp_trasp_var17_in_1y3': ['delta_num_trasp_var17_in_1y3'], 'saldo_var6': ['saldo_var29'], 'ind_var34_0': ['ind_var34'], 'num_var37_0': ['num_var37'], 'num_var25_0': ['num_var25'], 'ind_var6_0': ['ind_var29_0'], 'delta_imp_trasp_var33_out_1y3': ['delta_num_trasp_var33_out_1y3'], 'ind_var6': ['ind_var29'], 'delta_imp_trasp_var17_out_1y3': ['delta_num_trasp_var17_out_1y3']}\n",
      "# duplicated columns with distinct values: 29\n",
      "# removed duplicated columns: 29\n"
     ]
    }
   ],
   "source": [
    "# remove duplicate columns\n",
    "colsToRemove = [] # columns to remove\n",
    "colsScaned = [] # columns scaned\n",
    "dupList = {} # a dictionary of dupicate columns with distinct values\n",
    "# the keys are the first column of the dupicated columns\n",
    "# the entries are columns which has the same value as the key \n",
    "columns = df_train.columns\n",
    "for i in range(len(columns)-1):\n",
    "    # search through every column\n",
    "    v = df_train[columns[i]].values\n",
    "    dupCols = [] # dumpicated columns\n",
    "    for j in range(i+1,len(columns)):\n",
    "    # compare if the two column are equal\n",
    "        if np.array_equal(v,df_train[columns[j]].values):  \n",
    "        # if yes add to the columns to be removed\n",
    "            colsToRemove.append(columns[j])\n",
    "            if columns[j] not in colsScaned:\n",
    "            # only add new entry if the column haven't be scaned before\n",
    "                dupCols.append(columns[j]) \n",
    "                colsScaned.append(columns[j]) # add the column as scaned\n",
    "                dupList[columns[i]] = dupCols # update the key in the dictionary\n",
    "\n",
    "# print the dupicated columns as a dictionary\n",
    "# the keys are distinct dupicated columns\n",
    "# the entries are columns which has the same value as the key \n",
    "print(dupList)\n",
    "print(\"# duplicated columns with distinct values: {}\".format(len(dupList)))  \n",
    "\n",
    "df_train.drop(colsToRemove, axis=1, inplace=True) \n",
    "# remove duplicate columns in the training set\n",
    "df_test.drop(colsToRemove, axis=1, inplace=True) \n",
    "# remove duplicate columns in the test set\n",
    "print(\"# removed duplicated columns: {}\".format(len(colsToRemove)))  \n",
    "#print(\"Train set size: {}\".format(df_train.shape))\n",
    "#print(\"Test set size: {}\".format(df_test.shape))"
   ]
  },
  {
   "cell_type": "code",
   "execution_count": 9,
   "metadata": {},
   "outputs": [
    {
     "name": "stdout",
     "output_type": "stream",
     "text": [
      "['ind_var29_0', 'ind_var29', 'ind_var13_medio', 'ind_var18', 'ind_var26', 'ind_var25', 'ind_var32', 'ind_var34', 'ind_var37', 'ind_var39', 'num_var29_0', 'num_var29', 'num_var13_medio', 'num_var18', 'num_var26', 'num_var25', 'num_var32', 'num_var34', 'num_var37', 'num_var39', 'saldo_var29', 'saldo_medio_var13_medio_ult1', 'delta_num_reemb_var13_1y3', 'delta_num_reemb_var17_1y3', 'delta_num_reemb_var33_1y3', 'delta_num_trasp_var17_in_1y3', 'delta_num_trasp_var17_out_1y3', 'delta_num_trasp_var33_in_1y3', 'delta_num_trasp_var33_out_1y3']\n"
     ]
    }
   ],
   "source": [
    "print(colsToRemove) # print Duplicate columns"
   ]
  },
  {
   "cell_type": "markdown",
   "metadata": {},
   "source": [
    "## 1.5 Make Train and Test Set"
   ]
  },
  {
   "cell_type": "code",
   "execution_count": 43,
   "metadata": {},
   "outputs": [
    {
     "name": "stdout",
     "output_type": "stream",
     "text": [
      "Train data set size: (76020, 306)\n",
      "Test data set size: (75818, 306)\n"
     ]
    }
   ],
   "source": [
    "# make train data set\n",
    "x_train = df_train.drop(['ID', 'TARGET'], axis=1)\n",
    "y_train = df_train['TARGET']\n",
    "\n",
    "# make test data set\n",
    "id_test = df_test['ID']\n",
    "x_test = df_test.drop(['ID'], axis=1)\n",
    "\n",
    "print ('Train data set size: {}'.format(x_train.shape))\n",
    "print ('Test data set size: {}'.format(x_test.shape))"
   ]
  },
  {
   "cell_type": "markdown",
   "metadata": {},
   "source": [
    "## 2. Data Analysis"
   ]
  },
  {
   "cell_type": "markdown",
   "metadata": {},
   "source": [
    "### 2.1 log"
   ]
  },
  {
   "cell_type": "markdown",
   "metadata": {},
   "source": [
    "## 2.1 PCA"
   ]
  }
 ],
 "metadata": {
  "kernelspec": {
   "display_name": "Python 2",
   "language": "python",
   "name": "python2"
  },
  "language_info": {
   "codemirror_mode": {
    "name": "ipython",
    "version": 2
   },
   "file_extension": ".py",
   "mimetype": "text/x-python",
   "name": "python",
   "nbconvert_exporter": "python",
   "pygments_lexer": "ipython2",
   "version": "2.7.13"
  }
 },
 "nbformat": 4,
 "nbformat_minor": 2
}
